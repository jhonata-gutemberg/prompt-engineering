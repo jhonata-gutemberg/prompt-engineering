{
 "cells": [
  {
   "cell_type": "code",
   "execution_count": 1,
   "id": "f7d27c4e-061b-4b1c-b0bc-e93138ec1f77",
   "metadata": {},
   "outputs": [],
   "source": [
    "import pandas\n",
    "from IPython.core.display_functions import display\n",
    "from ipywidgets import widgets"
   ]
  },
  {
   "cell_type": "code",
   "execution_count": 2,
   "id": "017fefd2-7ac6-4b58-893a-70f8717f1f21",
   "metadata": {},
   "outputs": [],
   "source": [
    "df = pandas.read_csv(\"responses.csv\")\n",
    "df.sample(frac=1).reset_index(drop=True)\n",
    "response_index = 0\n",
    "df['feedback'] = pandas.Series(dtype='str')\n",
    "\n",
    "def on_button_clicked(b):\n",
    "    global response_index\n",
    "    user_feedback = 1 if b.description == \"\\U0001F44D\" else 0\n",
    "    df.at[response_index, 'feedback'] = user_feedback\n",
    "    response_index += 1\n",
    "    if response_index < len(df):\n",
    "        update_response()\n",
    "    else:\n",
    "        df.to_csv(\"results.csv\", index=False)\n",
    "    print(\"A/B testing completed. Here's the results:\")\n",
    "    summary_df = df.groupby('variant').agg(\n",
    "        count=('feedback', 'count'),\n",
    "        score=('feedback', 'mean')).reset_index()\n",
    "    print(summary_df)\n",
    "\n",
    "def update_response():\n",
    "    new_response = df.iloc[response_index]['response']\n",
    "    if pandas.notna(new_response):\n",
    "        new_response = '<p>' + new_response + \"</p>\"\n",
    "    else:\n",
    "        new_response = \"<p>No response</p>\"\n",
    "    response.value = new_response\n",
    "    count_label.value = f\"Response: {response_index + 1}\"\n",
    "    count_label.value += f\"/{len(df)}\"\n",
    "\n",
    "response = widgets.HTML()\n",
    "count_label = widgets.Label()\n",
    "\n",
    "update_response()\n",
    "\n",
    "thumbs_up_button = widgets.Button(description='\\U0001F44D')\n",
    "thumbs_up_button.on_click(on_button_clicked)\n",
    "thumbs_down_button = widgets.Button(description='\\U0001F44E')\n",
    "thumbs_down_button.on_click(on_button_clicked)\n",
    "button_box = widgets.HBox([thumbs_down_button, thumbs_up_button])"
   ]
  },
  {
   "cell_type": "code",
   "execution_count": 3,
   "id": "61798502-22a3-4544-86e3-bd350377974f",
   "metadata": {},
   "outputs": [
    {
     "data": {
      "application/vnd.jupyter.widget-view+json": {
       "model_id": "fd5e8462ac904587a3aab7ac131b6f92",
       "version_major": 2,
       "version_minor": 0
      },
      "text/plain": [
       "HTML(value=\"<p>Here are some product name ideas based on your seed words and description:\\n\\n1. Omni-Fit Shoes…"
      ]
     },
     "metadata": {},
     "output_type": "display_data"
    },
    {
     "data": {
      "application/vnd.jupyter.widget-view+json": {
       "model_id": "4960f345e7034e5595987161b5bf4989",
       "version_major": 2,
       "version_minor": 0
      },
      "text/plain": [
       "HBox(children=(Button(description='👎', style=ButtonStyle()), Button(description='👍', style=ButtonStyle())))"
      ]
     },
     "metadata": {},
     "output_type": "display_data"
    },
    {
     "data": {
      "application/vnd.jupyter.widget-view+json": {
       "model_id": "56be90841a2547958846726974db0b92",
       "version_major": 2,
       "version_minor": 0
      },
      "text/plain": [
       "Label(value='Response: 1/10')"
      ]
     },
     "metadata": {},
     "output_type": "display_data"
    }
   ],
   "source": [
    "display(response, button_box, count_label)"
   ]
  },
  {
   "cell_type": "code",
   "execution_count": null,
   "id": "59f43b90-ac3f-4bc0-9bbd-e105d600eb9a",
   "metadata": {},
   "outputs": [],
   "source": []
  }
 ],
 "metadata": {
  "kernelspec": {
   "display_name": "Python 3 (ipykernel)",
   "language": "python",
   "name": "python3"
  },
  "language_info": {
   "codemirror_mode": {
    "name": "ipython",
    "version": 3
   },
   "file_extension": ".py",
   "mimetype": "text/x-python",
   "name": "python",
   "nbconvert_exporter": "python",
   "pygments_lexer": "ipython3",
   "version": "3.13.5"
  }
 },
 "nbformat": 4,
 "nbformat_minor": 5
}
